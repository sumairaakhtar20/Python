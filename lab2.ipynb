{
 "cells": [
  {
   "cell_type": "code",
   "execution_count": 16,
   "id": "c96a565d-46e8-45a9-8541-88fb8dabeab9",
   "metadata": {},
   "outputs": [
    {
     "name": "stdin",
     "output_type": "stream",
     "text": [
      "enter a number 2\n",
      "enter a number 7\n",
      "enter a number 0\n"
     ]
    },
    {
     "name": "stdout",
     "output_type": "stream",
     "text": [
      "minimum is 0\n",
      "maximum is 7\n"
     ]
    }
   ],
   "source": [
    "inp1=int(input(\"enter a number\"))\n",
    "inp2=int (input(\"enter a number\"))\n",
    "inp3=int (input(\"enter a number\"))\n",
    "\n",
    "if(inp1<inp2 and inp1<inp3):\n",
    "    print(\"minimum is\",inp1)\n",
    "\n",
    "elif(inp2<inp1 and inp2<inp3):\n",
    "    print(\"minimum is\",inp2)\n",
    "\n",
    "elif(inp3<inp1 and inp3<inp2):\n",
    "    print(\"minimum is\",inp3)\n",
    "else:\n",
    "    print (\"sorry\")\n",
    "\n",
    "    \n",
    "if(inp1>inp2 and inp1>inp3):\n",
    "          print(\"maximum is\",inp1)\n",
    "  \n",
    "elif(inp2>inp1 and inp2>inp3):\n",
    "    print(\"maximum is\",inp2)\n",
    "\n",
    "elif(inp3>inp1 and inp3>inp2):\n",
    "    print(\"maximum is\",inp3)\n",
    "else:\n",
    "    print(\"sorry\")2\n",
    "\n",
    "    \n",
    "\n"
   ]
  },
  {
   "cell_type": "code",
   "execution_count": 18,
   "id": "b78b2430-9e5c-4fb2-8875-481b9576119d",
   "metadata": {},
   "outputs": [
    {
     "name": "stdout",
     "output_type": "stream",
     "text": [
      "7 --- 14 --- 21 --- 28 ---\n"
     ]
    }
   ],
   "source": [
    "x=7\n",
    "print(x,\"---\",2*x,\"---\",3*x,\"---\",4*x,\"---\")"
   ]
  },
  {
   "cell_type": "code",
   "execution_count": 20,
   "id": "f47a97b4-bc14-47d8-9290-dde58606721e",
   "metadata": {},
   "outputs": [
    {
     "name": "stdin",
     "output_type": "stream",
     "text": [
      "enter a nuber from 1 to 10 4\n"
     ]
    },
    {
     "name": "stdout",
     "output_type": "stream",
     "text": [
      "square is 16\n",
      "cube is 64\n"
     ]
    }
   ],
   "source": [
    "number_1=int(input(\"enter a nuber from 1 to 10\"))\n",
    "print(\"square is\",number_1**2)\n",
    "print(\"cube is\",number_1**3)\n",
    "             "
   ]
  },
  {
   "cell_type": "code",
   "execution_count": 22,
   "id": "d5a7fe9c-a6fb-405a-a02d-50dad84a22aa",
   "metadata": {},
   "outputs": [
    {
     "name": "stdout",
     "output_type": "stream",
     "text": [
      "6\n",
      "20.0\n",
      "4.5\n",
      "-4.5\n",
      "-5\n",
      "1\n",
      "1.0\n",
      "1.0\n",
      "-1\n",
      "1\n",
      "-4.5\n",
      "19\n",
      "35\n"
     ]
    }
   ],
   "source": [
    "a = 9 - 3\n",
    "print(a)\n",
    "b =\t8 * 2.5\n",
    "print(b)\n",
    "c = 9 / 2\n",
    "print(c)\n",
    "d\t=9 / -2\n",
    "print(d)\n",
    "e =\t9 // -2\n",
    "print(e)\n",
    "f =\t9 % 2\n",
    "print(f)\n",
    "g =\t9.0 % 2\n",
    "print(g)\n",
    "h =\t9 % 2.0\n",
    "print(h)\n",
    "i =\t9 % -2\n",
    "print(i)\n",
    "j =\t-9 % 2\n",
    "print(j)\n",
    "k =\t9 / -2.0\n",
    "print(k)\n",
    "l =\t4 + 3 * 5\n",
    "print(l)\n",
    "m =\t(4 + 3) * 5\n",
    "print(m)\n"
   ]
  },
  {
   "cell_type": "code",
   "execution_count": 24,
   "id": "02f857f6-9150-4aac-a0d8-abd58f82911b",
   "metadata": {},
   "outputs": [
    {
     "name": "stdout",
     "output_type": "stream",
     "text": [
      "6 5\n"
     ]
    }
   ],
   "source": [
    "p,q = 5,6\n",
    "p = int(p*q)\n",
    "q = int(p/q)\n",
    "p = int(p/q)\n",
    "print(p,q)"
   ]
  },
  {
   "cell_type": "code",
   "execution_count": 28,
   "id": "0492c5c7-2824-4fed-8ffa-760bc2c60fef",
   "metadata": {},
   "outputs": [
    {
     "name": "stdin",
     "output_type": "stream",
     "text": [
      "enter number 1 3\n",
      "enter number 2 5\n"
     ]
    },
    {
     "name": "stdout",
     "output_type": "stream",
     "text": [
      "the sum is 8\n",
      "the multiplication is 15\n",
      "the division is  0.6\n",
      "the modulus is 3\n",
      "the difference is -2\n"
     ]
    }
   ],
   "source": [
    "input_1 =int(input(\"enter number 1\"))\n",
    "input_2 = int (input(\"enter number 2\"))\n",
    "print(\"the sum is\",input_1+input_2)\n",
    "print (\"the multiplication is\",input_1*input_2)\n",
    "print (\"the division is \",input_1/input_2)\n",
    "print(\"the modulus is\",input_1%input_2)\n",
    "print (\"the difference is\",input_1-input_2)"
   ]
  },
  {
   "cell_type": "code",
   "execution_count": 30,
   "id": "93ea5c9b-64f8-4a18-b81f-8be8cc5bb8a0",
   "metadata": {},
   "outputs": [
    {
     "name": "stdin",
     "output_type": "stream",
     "text": [
      "enter a radius 4\n"
     ]
    },
    {
     "name": "stdout",
     "output_type": "stream",
     "text": [
      "the circumference is 25.12\n",
      "the diameter is  8\n",
      "the area is 50.24\n"
     ]
    }
   ],
   "source": [
    "radius = int(input(\"enter a radius\"))\n",
    "print(\"the circumference is\",2*3.14*radius)\n",
    "print(\"the diameter is \",radius*2)\n",
    "print(\"the area is\",3.14*radius**2)\n"
   ]
  },
  {
   "cell_type": "code",
   "execution_count": 32,
   "id": "3c9eea1a-0933-4bf1-99db-02c4d38b0c97",
   "metadata": {},
   "outputs": [
    {
     "name": "stdout",
     "output_type": "stream",
     "text": [
      "*********\n",
      "*       *\n",
      "*       *\n",
      "*       *\n",
      "*********\n"
     ]
    }
   ],
   "source": [
    "print(\"*********\")\n",
    "print(\"*       *\")\n",
    "print(\"*       *\")\n",
    "print(\"*       *\")\n",
    "print(\"*********\")\n"
   ]
  },
  {
   "cell_type": "code",
   "execution_count": 34,
   "id": "d9a11170-0660-414c-9740-ca6c2d5d6606",
   "metadata": {},
   "outputs": [
    {
     "name": "stdout",
     "output_type": "stream",
     "text": [
      "   *** \n",
      "*       *\n",
      "*       *\n",
      "*       *\n",
      "*       *\n",
      "   *** \n"
     ]
    }
   ],
   "source": [
    "print(\"   *** \")\n",
    "print(\"*       *\")\n",
    "print(\"*       *\")\n",
    "print(\"*       *\")\n",
    "print(\"*       *\")\n",
    "print(\"   *** \")"
   ]
  },
  {
   "cell_type": "code",
   "execution_count": 36,
   "id": "181e836c-98d4-474f-b51c-cf46b4c89417",
   "metadata": {},
   "outputs": [
    {
     "name": "stdout",
     "output_type": "stream",
     "text": [
      "  *  \n",
      " *** \n",
      "*****\n",
      "  *  \n",
      "  *  \n",
      "  *  \n",
      "  *  \n",
      "  *  \n"
     ]
    }
   ],
   "source": [
    "print(\"  *  \")\n",
    "print(\" *** \")\n",
    "print(\"*****\")\n",
    "print(\"  *  \")\n",
    "print(\"  *  \")\n",
    "print(\"  *  \")\n",
    "print(\"  *  \")\n",
    "print(\"  *  \")"
   ]
  },
  {
   "cell_type": "code",
   "execution_count": 38,
   "id": "1e325b0b-1328-4691-9780-e9742acbdebe",
   "metadata": {},
   "outputs": [
    {
     "name": "stdout",
     "output_type": "stream",
     "text": [
      "   *   \n",
      "  * * \n",
      " *   * \n",
      "*     * \n",
      " *   *  \n",
      "  * * \n",
      "   *  \n"
     ]
    }
   ],
   "source": [
    "print(\"   *   \" )\n",
    "print(\"  * * \")\n",
    "print(\" *   * \")\n",
    "print(\"*     * \")\n",
    "print(\" *   *  \")\n",
    "print(\"  * * \")\n",
    "print(\"   *  \")"
   ]
  },
  {
   "cell_type": "code",
   "execution_count": 40,
   "id": "331b8dfd-2604-4c50-8ca3-41fb375de4be",
   "metadata": {},
   "outputs": [
    {
     "name": "stdout",
     "output_type": "stream",
     "text": [
      "HHHHHH\n",
      " HHHHH\n",
      "  HHHH\n",
      "   HHH\n",
      "     H\n"
     ]
    }
   ],
   "source": [
    "print(\"HHHHHH\")\n",
    "print(\" HHHHH\")\n",
    "print(\"  HHHH\")\n",
    "print(\"   HHH\")\n",
    "print(\"     H\")\n"
   ]
  },
  {
   "cell_type": "code",
   "execution_count": 42,
   "id": "e57aa027-5a65-41ce-9fbc-5fb656f00084",
   "metadata": {},
   "outputs": [
    {
     "name": "stdin",
     "output_type": "stream",
     "text": [
      "enter a number 7\n"
     ]
    },
    {
     "name": "stdout",
     "output_type": "stream",
     "text": [
      "odd\n"
     ]
    }
   ],
   "source": [
    "number = int (input(\"enter a number\"))\n",
    "if(number%2==0):\n",
    "    print(\"even\")\n",
    "\n",
    "else:\n",
    "    print(\"odd\")\n",
    "\n"
   ]
  },
  {
   "cell_type": "code",
   "execution_count": 44,
   "id": "cf30cf79-cf8b-4406-b7ee-281aef095bcc",
   "metadata": {},
   "outputs": [
    {
     "name": "stdin",
     "output_type": "stream",
     "text": [
      "enter a number 5\n",
      "enter a number 7\n",
      "enter anumber 8\n",
      "enter a number 9\n",
      "enter a number 4\n"
     ]
    },
    {
     "name": "stdout",
     "output_type": "stream",
     "text": [
      "largest is 9\n",
      "smalllest is  4\n"
     ]
    }
   ],
   "source": [
    "num1=int(input(\"enter a number\"))\n",
    "num2=int(input(\"enter a number\"))\n",
    "num3=int(input(\"enter anumber\"))\n",
    "num4=int(input(\"enter a number\"))\n",
    "num5= int(input(\"enter a number\"))\n",
    "if num1<num2 and num1<num3 and num1<num4 and num1<num5:\n",
    "    small=num1\n",
    "if num2<num1 and num2<num3 and num2<num4 and num2<num5:\n",
    "    small=num2\n",
    "if num3<num1 and num3<num2  and num3<num4 and num3<num5:\n",
    "    small=num3\n",
    "if num4<num1 and num4<num2 and num4<num3 and num4<num5:\n",
    "    small=num4\n",
    "if num5<num1 and num5<num2 and num5<num3 and num1<num4:\n",
    "    small=num5\n",
    "if num1>num2 and num1>num3 and num1>num4 and num1>num5:\n",
    "    large=num1\n",
    "if num2>num1 and num2>num3 and num2>num4 and num2>num5:\n",
    "    large=num2\n",
    "if num3>num1 and num3>num2 and num3>num4 and num3>num5:\n",
    "    large=num3\n",
    "if num4>num1 and num4>num2 and num4>num3 and num4>num5:\n",
    "    large=num4\n",
    "if num5>num1 and num5>num2 and num5>num3 and num5>num4:\n",
    "    large=num5\n",
    "print(\"largest is\",large)\n",
    "print(\"smalllest is \", small)\n",
    "\n",
    "\n"
   ]
  },
  {
   "cell_type": "code",
   "execution_count": 46,
   "id": "fe327716-545c-45d4-9d23-7db2601c8e3a",
   "metadata": {},
   "outputs": [
    {
     "name": "stdin",
     "output_type": "stream",
     "text": [
      "enter a number 2\n",
      "enter a number 3\n",
      "enter a number 4\n"
     ]
    },
    {
     "name": "stdout",
     "output_type": "stream",
     "text": [
      "three integers are not the side of right triangle\n"
     ]
    }
   ],
   "source": [
    "num1=int(input(\"enter a number\"))\n",
    "num2= int(input(\"enter a number\"))\n",
    "num3= int(input(\"enter a number\"))\n",
    "if num1**2+num2**2==num3**2 or num2**2+num3**2==num1**2 or num1**2+num3**2==num2**2:\n",
    "    print(\"three integers are side of right triangle\")\n",
    "else:\n",
    "    print(\"three integers are not the side of right triangle\")"
   ]
  },
  {
   "cell_type": "code",
   "execution_count": 48,
   "id": "efca0f40-1165-432d-aaf0-c75da54410bb",
   "metadata": {},
   "outputs": [
    {
     "name": "stdin",
     "output_type": "stream",
     "text": [
      "Enter your score:  0.9\n"
     ]
    },
    {
     "name": "stdout",
     "output_type": "stream",
     "text": [
      "a\n"
     ]
    }
   ],
   "source": [
    "marks=float (input (\"Enter your score: \"))\n",
    "if 1>marks>=0.9:\n",
    "    print(\"a\")\n",
    "elif 1>marks>=0.8:\n",
    "    print(\"b\")\n",
    "elif 1>marks>=0.7:\n",
    "    print(\"c\")\n",
    "elif 1>marks>=0.6:\n",
    "    print(\"d\")\n",
    "elif 1>marks<0.6:\n",
    "    print(\"f\")\n",
    "else:\n",
    "    print(\"bad score\")\n",
    "    "
   ]
  },
  {
   "cell_type": "code",
   "execution_count": 50,
   "id": "c3fdc2e0-9c11-4858-855e-4aae92383bd2",
   "metadata": {},
   "outputs": [
    {
     "name": "stdin",
     "output_type": "stream",
     "text": [
      "Enter hour:  10\n",
      "am or pm?  am\n",
      "How many hours ahead?  5\n"
     ]
    },
    {
     "name": "stdout",
     "output_type": "stream",
     "text": [
      "3 pm\n"
     ]
    }
   ],
   "source": [
    "#bonus\n",
    "clock=int (input (\"Enter hour: \")) \n",
    "m=input(\"am or pm? \")\n",
    "ahead=int (input (\"How many hours ahead? \"))\n",
    "a=clock+ahead\n",
    "hour=(a)%24\n",
    "if 0<hour<12:\n",
    "    print (hour, m)\n",
    "elif hour==0:\n",
    "    if m=='am':\n",
    "        print (12, 'pm' )   \n",
    "elif m=='pm' :\n",
    "    print (12, 'am')\n",
    "elif hour>12 and clock!=12:\n",
    "    if m=='am':\n",
    "        print (hour-12, 'pm' ) \n",
    "elif m=='pm' :\n",
    "    print (hour-12, 'am')\n",
    "else:\n",
    "    print (hour-12, m)"
   ]
  },
  {
   "cell_type": "code",
   "execution_count": null,
   "id": "a2e77e56-d630-4d8d-9c40-4048967027a7",
   "metadata": {},
   "outputs": [],
   "source": []
  }
 ],
 "metadata": {
  "kernelspec": {
   "display_name": "Python 3 (ipykernel)",
   "language": "python",
   "name": "python3"
  },
  "language_info": {
   "codemirror_mode": {
    "name": "ipython",
    "version": 3
   },
   "file_extension": ".py",
   "mimetype": "text/x-python",
   "name": "python",
   "nbconvert_exporter": "python",
   "pygments_lexer": "ipython3",
   "version": "3.12.4"
  }
 },
 "nbformat": 4,
 "nbformat_minor": 5
}
