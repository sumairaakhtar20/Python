{
 "cells": [
  {
   "cell_type": "code",
   "execution_count": 1,
   "id": "1c5ce960-e120-45a5-8ca9-c15fb7d2d14e",
   "metadata": {},
   "outputs": [
    {
     "name": "stdin",
     "output_type": "stream",
     "text": [
      "Enter a line of text:\n",
      " a line\n"
     ]
    },
    {
     "name": "stdout",
     "output_type": "stream",
     "text": [
      "The line in uppercase is:\n",
      "A LINE\n",
      "The line in lowercase is:\n",
      "a line\n"
     ]
    }
   ],
   "source": [
    "#task 1\n",
    "# Input a line of text from the user\n",
    "text = input(\"Enter a line of text:\\n\")\n",
    "\n",
    "# Convert the text to uppercase and lowercase\n",
    "uppercase_text = text.upper()\n",
    "lowercase_text = text.lower()\n",
    "\n",
    "# Output the results\n",
    "print(\"The line in uppercase is:\")\n",
    "print(uppercase_text)\n",
    "\n",
    "print(\"The line in lowercase is:\")\n",
    "print(lowercase_text)"
   ]
  },
  {
   "cell_type": "code",
   "execution_count": 2,
   "id": "a693326b-dad7-4715-97ce-20d680ec33ad",
   "metadata": {},
   "outputs": [
    {
     "name": "stdin",
     "output_type": "stream",
     "text": [
      "Enter a string:\n",
      " 11\n"
     ]
    },
    {
     "name": "stdout",
     "output_type": "stream",
     "text": [
      "The estimated number of words is: 1\n"
     ]
    }
   ],
   "source": [
    "#task2 \n",
    "# Input a string from the user\n",
    "text = input(\"Enter a string:\\n\")\n",
    "\n",
    "# Count the number of spaces in the string\n",
    "space_count = text.count(' ')\n",
    "\n",
    "# Estimate the number of words\n",
    "# We add 1 because the number of words is typically one more than the number of spaces\n",
    "word_estimate = space_count + 1\n",
    "\n",
    "# Output the estimate\n",
    "print(\"The estimated number of words is:\", word_estimate)"
   ]
  },
  {
   "cell_type": "code",
   "execution_count": 4,
   "id": "0f87d06c-856c-4a02-a074-ca7a7db7c726",
   "metadata": {},
   "outputs": [
    {
     "name": "stdin",
     "output_type": "stream",
     "text": [
      "Enter a string:\n",
      " owner\n"
     ]
    },
    {
     "name": "stdout",
     "output_type": "stream",
     "text": [
      "The resulting string is:\n",
      "owner\n"
     ]
    }
   ],
   "source": [
    "#task 3\n",
    "# Input a string from the user\n",
    "s = input(\"Enter a string:\\n\")\n",
    "\n",
    "# Convert the string to lowercase\n",
    "s = s.lower()\n",
    "\n",
    "# Remove all periods and commas\n",
    "s = s.replace('.', '').replace(',', '')\n",
    "\n",
    "# Print the resulting string\n",
    "print(\"The resulting string is:\")\n",
    "print(s)"
   ]
  },
  {
   "cell_type": "code",
   "execution_count": 5,
   "id": "b9e8a751-ef6a-4e06-8175-48ecb638a9fb",
   "metadata": {},
   "outputs": [
    {
     "name": "stdout",
     "output_type": "stream",
     "text": [
      "The index of 9362 is: 3\n",
      "The final sorted list is: [1830, 2314, 2956, 3900, 4353, 4499, 5566, 9362]\n"
     ]
    }
   ],
   "source": [
    "#task 4\n",
    "# Initial list\n",
    "ids = [4353, 2314, 2956, 3382, 9362, 3900]\n",
    "\n",
    "# 1. Remove 3382 from the list\n",
    "ids.remove(3382)\n",
    "\n",
    "# 2. Get the index of 9362\n",
    "index_9362 = ids.index(9362)\n",
    "print(\"The index of 9362 is:\", index_9362)\n",
    "\n",
    "# 3. Insert 4499 in the list after 9362\n",
    "ids.insert(index_9362 + 1, 4499)\n",
    "\n",
    "# 4. Extend the list by adding [5566, 1830] to it\n",
    "ids.extend([5566, 1830])\n",
    "\n",
    "# 5. Reverse the list\n",
    "ids.reverse()\n",
    "\n",
    "# 6. Sort the list\n",
    "ids.sort()\n",
    "\n",
    "# Print the final list\n",
    "print(\"The final sorted list is:\", ids)"
   ]
  },
  {
   "cell_type": "code",
   "execution_count": 6,
   "id": "25645907-06dc-45d7-9571-cf53e9ba683b",
   "metadata": {},
   "outputs": [
    {
     "name": "stdout",
     "output_type": "stream",
     "text": [
      "Roll Total | Percentage\n",
      "------------------------\n",
      "    2      | 2.55%\n",
      "    3      | 5.73%\n",
      "    4      | 8.37%\n",
      "    5      | 11.27%\n",
      "    6      | 13.70%\n",
      "    7      | 17.17%\n",
      "    8      | 13.71%\n",
      "    9      | 11.11%\n",
      "    10     | 7.71%\n",
      "    11     | 5.42%\n",
      "    12     | 3.26%\n"
     ]
    }
   ],
   "source": [
    "#task 5\n",
    "import random\n",
    "\n",
    "# Number of simulations\n",
    "num_simulations = 10000\n",
    "\n",
    "# Initialize a dictionary to count occurrences of each possible roll (2 to 12)\n",
    "roll_counts = {total: 0 for total in range(2, 13)}\n",
    "\n",
    "# Simulate rolling two dice 10,000 times\n",
    "for _ in range(num_simulations):\n",
    "    die1 = random.randint(1, 6)\n",
    "    die2 = random.randint(1, 6)\n",
    "    roll_total = die1 + die2\n",
    "    roll_counts[roll_total] += 1\n",
    "\n",
    "# Print the results in a table format\n",
    "print(\"Roll Total | Percentage\")\n",
    "print(\"------------------------\")\n",
    "for total in range(2, 13):\n",
    "    percentage = (roll_counts[total] / num_simulations) * 100\n",
    "    print(f\"{total:^10} | {percentage:.2f}%\")"
   ]
  },
  {
   "cell_type": "code",
   "execution_count": 7,
   "id": "24dbc153-c526-4315-8f48-595238884423",
   "metadata": {},
   "outputs": [
    {
     "name": "stdout",
     "output_type": "stream",
     "text": [
      "Mean: 3\n",
      "Median: 3\n",
      "Mode: 5\n"
     ]
    }
   ],
   "source": [
    "#task 6\n",
    "from collections import Counter\n",
    "\n",
    "def mean(numbers):\n",
    "    \"\"\"Calculate the mean of a list of numbers.\"\"\"\n",
    "    if not numbers:\n",
    "        return 0  # Return 0 if the list is empty\n",
    "    return int(sum(numbers) // len(numbers))\n",
    "\n",
    "def median(numbers):\n",
    "    \"\"\"Calculate the median of a list of numbers.\"\"\"\n",
    "    if not numbers:\n",
    "        return 0  # Return 0 if the list is empty\n",
    "    sorted_numbers = sorted(numbers)\n",
    "    n = len(sorted_numbers)\n",
    "    mid = n // 2\n",
    "    if n % 2 == 0:\n",
    "        # For even length, return the average of the two middle numbers\n",
    "        return int((sorted_numbers[mid - 1] + sorted_numbers[mid]) // 2)\n",
    "    else:\n",
    "        # For odd length, return the middle number\n",
    "        return sorted_numbers[mid]\n",
    "\n",
    "def mode(numbers):\n",
    "    \"\"\"Calculate the mode of a list of numbers.\"\"\"\n",
    "    if not numbers:\n",
    "        return 0  # Return 0 if the list is empty\n",
    "    count = Counter(numbers)\n",
    "    max_count = max(count.values())\n",
    "    mode_values = [num for num, freq in count.items() if freq == max_count]\n",
    "    return int(min(mode_values))  # Return the smallest mode if there are multiple\n",
    "\n",
    "# Example usage\n",
    "numbers = [1, 2, 2, 3, 4, 5, 5, 5]\n",
    "\n",
    "print(\"Mean:\", mean(numbers))\n",
    "print(\"Median:\", median(numbers))\n",
    "print(\"Mode:\", mode(numbers))\n"
   ]
  },
  {
   "cell_type": "code",
   "execution_count": 8,
   "id": "bd130747-b017-4fbd-8841-299199695efc",
   "metadata": {},
   "outputs": [
    {
     "name": "stdout",
     "output_type": "stream",
     "text": [
      "Original list: [1, 2, 3, 4, 5]\n",
      "Rotated list: [2, 3, 4, 5, 1]\n"
     ]
    }
   ],
   "source": [
    "#task 7\n",
    "def rotate_list(lst):\n",
    "    \"\"\"Rotate the elements of the list.\"\"\"\n",
    "    if len(lst) == 0:\n",
    "        return lst  # Return an empty list if the input list is empty\n",
    "    return lst[1:] + [lst[0]]\n",
    "\n",
    "# Example usage\n",
    "original_list = [1, 2, 3, 4, 5]\n",
    "rotated_list = rotate_list(original_list)\n",
    "\n",
    "print(\"Original list:\", original_list)\n",
    "print(\"Rotated list:\", rotated_list)"
   ]
  },
  {
   "cell_type": "code",
   "execution_count": 9,
   "id": "d0bf0de6-e7ee-4f36-86ad-f355943844d6",
   "metadata": {},
   "outputs": [
    {
     "name": "stdout",
     "output_type": "stream",
     "text": [
      "Random list: [1, 0, 1, 1, 0, 0, 1, 1, 0, 1, 1, 1, 1, 0, 0, 1, 1, 0, 0, 0, 1, 0, 0, 0, 1, 0, 1, 0, 0, 0, 0, 1, 0, 1, 1, 0, 0, 0, 0, 0, 0, 0, 0, 0, 1, 0, 1, 1, 0, 0, 1, 1, 0, 1, 0, 1, 1, 0, 0, 1, 1, 0, 0, 0, 0, 0, 1, 0, 0, 1, 0, 0, 0, 1, 1, 1, 1, 0, 0, 1, 1, 1, 1, 1, 0, 0, 1, 1, 0, 0, 0, 0, 0, 0, 1, 1, 1, 0, 0, 1]\n",
      "Longest run of zeros: 9\n"
     ]
    }
   ],
   "source": [
    "import random\n",
    "\n",
    "def generate_random_list(size):\n",
    "    \"\"\"Generate a list of random 0s and 1s.\"\"\"\n",
    "    return [random.randint(0, 1) for _ in range(size)]\n",
    "\n",
    "def longest_run_of_zeros(lst):\n",
    "    \"\"\"Find the longest run of consecutive zeros in the list.\"\"\"\n",
    "    max_run = 0\n",
    "    current_run = 0\n",
    "\n",
    "    for number in lst:\n",
    "        if number == 0:\n",
    "            current_run += 1\n",
    "            if current_run > max_run:\n",
    "                max_run = current_run\n",
    "        else:\n",
    "            current_run = 0\n",
    "\n",
    "    return max_run\n",
    "\n",
    "# Generate a list of 100 random integers (0 or 1)\n",
    "random_list = generate_random_list(100)\n",
    "\n",
    "# Find the longest run of zeros\n",
    "longest_run = longest_run_of_zeros(random_list)\n",
    "\n",
    "# Print the results\n",
    "print(\"Random list:\", random_list)\n",
    "print(\"Longest run of zeros:\", longest_run)"
   ]
  },
  {
   "cell_type": "code",
   "execution_count": 3,
   "id": "65d2fcfe-0d2d-484e-b5b4-c439ab83648b",
   "metadata": {},
   "outputs": [
    {
     "name": "stdin",
     "output_type": "stream",
     "text": [
      "Enter the number of rows:  5\n",
      "Enter the number of columns:  6\n"
     ]
    },
    {
     "name": "stdout",
     "output_type": "stream",
     "text": [
      "Enter the matrix elements row by row:\n"
     ]
    },
    {
     "name": "stdin",
     "output_type": "stream",
     "text": [
      " 4\n",
      " 6\n",
      " 7\n",
      " 8\n",
      " 9\n"
     ]
    },
    {
     "name": "stdout",
     "output_type": "stream",
     "text": [
      "\n",
      "Original Matrix:\n",
      "4.0\n",
      "6.0\n",
      "7.0\n",
      "8.0\n",
      "9.0\n",
      "\n",
      "Transpose Matrix:\n",
      "4.0 6.0 7.0 8.0 9.0\n",
      "Matrix multiplication not possible with the given dimensions.\n"
     ]
    }
   ],
   "source": [
    "#task 9\n",
    "import numpy as np\n",
    "\n",
    "# Function to read matrix size and data from the user\n",
    "def read_matrix():\n",
    "    # Read matrix dimensions\n",
    "    rows = int(input(\"Enter the number of rows: \"))\n",
    "    cols = int(input(\"Enter the number of columns: \"))\n",
    "\n",
    "    # Initialize an empty matrix\n",
    "    matrix = []\n",
    "    \n",
    "    # Read matrix elements from the user\n",
    "    print(\"Enter the matrix elements row by row:\")\n",
    "    for i in range(rows):\n",
    "        row = list(map(float, input().split()))\n",
    "        matrix.append(row)\n",
    "    \n",
    "    return np.array(matrix)\n",
    "\n",
    "# Function to print matrix\n",
    "def print_matrix(matrix, name):\n",
    "    print(f\"\\n{name} Matrix:\")\n",
    "    for row in matrix:\n",
    "        print(\" \".join(map(str, row)))\n",
    "\n",
    "# Main function\n",
    "def main():\n",
    "    # Read matrix from user\n",
    "    matrix = read_matrix()\n",
    "    \n",
    "    # Compute transpose\n",
    "    transpose = np.transpose(matrix)\n",
    "    \n",
    "    # Compute matrix product (matrix * matrix)\n",
    "    try:\n",
    "        product = np.matmul(matrix, matrix)\n",
    "    except ValueError:\n",
    "        product = \"Matrix multiplication not possible with the given dimensions.\"\n",
    "\n",
    "    # Print matrices\n",
    "    print_matrix(matrix, \"Original\")\n",
    "    print_matrix(transpose, \"Transpose\")\n",
    "    if isinstance(product, str):\n",
    "        print(product)\n",
    "    else:\n",
    "        print_matrix(product, \"Product\")\n",
    "\n",
    "# Run the main function\n",
    "if __name__ == \"__main__\":\n",
    "    main()"
   ]
  },
  {
   "cell_type": "code",
   "execution_count": null,
   "id": "b717769d-8086-4a96-ace5-0eca6cee5473",
   "metadata": {},
   "outputs": [],
   "source": []
  }
 ],
 "metadata": {
  "kernelspec": {
   "display_name": "Python 3 (ipykernel)",
   "language": "python",
   "name": "python3"
  },
  "language_info": {
   "codemirror_mode": {
    "name": "ipython",
    "version": 3
   },
   "file_extension": ".py",
   "mimetype": "text/x-python",
   "name": "python",
   "nbconvert_exporter": "python",
   "pygments_lexer": "ipython3",
   "version": "3.12.4"
  }
 },
 "nbformat": 4,
 "nbformat_minor": 5
}
