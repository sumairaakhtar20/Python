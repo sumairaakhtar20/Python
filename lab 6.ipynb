{
 "cells": [
  {
   "cell_type": "code",
   "execution_count": 10,
   "id": "812c652c-28f8-423a-a9d1-cb42748405b3",
   "metadata": {},
   "outputs": [
    {
     "name": "stdout",
     "output_type": "stream",
     "text": [
      "Area: 15\n",
      "Perimeter: 16\n"
     ]
    }
   ],
   "source": [
    "class Rectangle:\n",
    "    def __init__(self, length, width):\n",
    "        \"\"\"Initialize the length and width of the rectangle.\"\"\"\n",
    "        self.length = length\n",
    "        self.width = width\n",
    "\n",
    "    def area(self):\n",
    "        \"\"\"Calculate and return the area of the rectangle.\"\"\"\n",
    "        return self.length * self.width\n",
    "\n",
    "    def perimeter(self):\n",
    "        \"\"\"Calculate and return the perimeter of the rectangle.\"\"\"\n",
    "        return 2 * (self.length + self.width)\n",
    "\n",
    "# Example usage:\n",
    "rect = Rectangle( 5, 3)\n",
    "print(\"Area:\", rect.area())            \n",
    "print(\"Perimeter:\", rect.perimeter())"
   ]
  },
  {
   "cell_type": "code",
   "execution_count": 9,
   "id": "abdfebc8-5d24-4c69-baca-07ac74722b3f",
   "metadata": {},
   "outputs": [
    {
     "name": "stdout",
     "output_type": "stream",
     "text": [
      "Buddy says Woof!\n",
      "Whiskers says Meow!\n",
      "Tweety says Chirp!\n",
      "Buddy is fetching the ball!\n",
      "Whiskers is scratching the furniture!\n",
      "Tweety is flying high!\n"
     ]
    }
   ],
   "source": [
    "#task 2\n",
    "class Animal:\n",
    "    def __init__(self, name):\n",
    "        \"\"\"Initialize the animal with a name.\"\"\"\n",
    "        self.name = name\n",
    "    \n",
    "    def speak(self):\n",
    "        \"\"\"Common method to be overridden by derived classes.\"\"\"\n",
    "        raise NotImplementedError(\"Subclass must implement abstract method\")\n",
    "\n",
    "class Dog(Animal):\n",
    "    def speak(self):\n",
    "        \"\"\"Override the speak method for Dog.\"\"\"\n",
    "        return f\"{self.name} says Woof!\"\n",
    "\n",
    "    def fetch(self):\n",
    "        \"\"\"Unique method for Dog.\"\"\"\n",
    "        return f\"{self.name} is fetching the ball!\"\n",
    "\n",
    "class Cat(Animal):\n",
    "    def speak(self):\n",
    "        \"\"\"Override the speak method for Cat.\"\"\"\n",
    "        return f\"{self.name} says Meow!\"\n",
    "\n",
    "    def scratch(self):\n",
    "        \"\"\"Unique method for Cat.\"\"\"\n",
    "        return f\"{self.name} is scratching the furniture!\"\n",
    "\n",
    "class Bird(Animal):\n",
    "    def speak(self):\n",
    "        \"\"\"Override the speak method for Bird.\"\"\"\n",
    "        return f\"{self.name} says Chirp!\"\n",
    "\n",
    "    def fly(self):\n",
    "        \"\"\"Unique method for Bird.\"\"\"\n",
    "        return f\"{self.name} is flying high!\"\n",
    "\n",
    "# Instantiate objects of each class\n",
    "dog = Dog(\"Buddy\")\n",
    "cat = Cat(\"Whiskers\")\n",
    "bird = Bird(\"Tweety\")\n",
    "\n",
    "# Demonstrate polymorphism\n",
    "animals = [dog, cat, bird]\n",
    "for animal in animals:\n",
    "    print(animal.speak())\n",
    "\n",
    "# Call unique methods\n",
    "print(dog.fetch())\n",
    "print(cat.scratch())\n",
    "print(bird.fly())"
   ]
  },
  {
   "cell_type": "code",
   "execution_count": 8,
   "id": "e5bb728c-6d93-4df2-8fdc-e664b6f5e679",
   "metadata": {},
   "outputs": [
    {
     "name": "stdout",
     "output_type": "stream",
     "text": [
      "Rectangle Area: 15\n",
      "Circle Area: 50.26548245743669\n"
     ]
    }
   ],
   "source": [
    "import math\n",
    "\n",
    "class Shape:\n",
    "    def area(self):\n",
    "        \"\"\"Method to be overridden by subclasses to calculate the area.\"\"\"\n",
    "        raise NotImplementedError(\"Subclass must implement the area method\")\n",
    "\n",
    "class Rectangle(Shape):\n",
    "    def __init__(self, length, width):\n",
    "        self.length = length\n",
    "        self.width = width\n",
    "\n",
    "    def area(self):\n",
    "        \"\"\"Calculate and return the area of the rectangle.\"\"\"\n",
    "        return self.length * self.width\n",
    "\n",
    "class Circle(Shape):\n",
    "    def __init__(self, radius):\n",
    "        self.radius = radius\n",
    "\n",
    "    def area(self):\n",
    "        \"\"\"Calculate and return the area of the circle.\"\"\"\n",
    "        return math.pi * (self.radius ** 2)\n",
    "\n",
    "\n",
    "rect = Rectangle(5, 3)\n",
    "circle = Circle(4)\n",
    "\n",
    "# Print the areas\n",
    "print(\"Rectangle Area:\", rect.area())  \n",
    "print(\"Circle Area:\", circle.area())    "
   ]
  },
  {
   "cell_type": "code",
   "execution_count": null,
   "id": "47c2a36e-7140-4c70-a458-8c5323be9337",
   "metadata": {},
   "outputs": [],
   "source": []
  }
 ],
 "metadata": {
  "kernelspec": {
   "display_name": "Python 3 (ipykernel)",
   "language": "python",
   "name": "python3"
  },
  "language_info": {
   "codemirror_mode": {
    "name": "ipython",
    "version": 3
   },
   "file_extension": ".py",
   "mimetype": "text/x-python",
   "name": "python",
   "nbconvert_exporter": "python",
   "pygments_lexer": "ipython3",
   "version": "3.12.4"
  }
 },
 "nbformat": 4,
 "nbformat_minor": 5
}
